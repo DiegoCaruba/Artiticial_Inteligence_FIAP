{
 "cells": [
  {
   "cell_type": "markdown",
   "metadata": {},
   "source": [
    "# Machine Learning Supervisionado - Regressão\n",
    "- atributo alvo é numérico (float): predição de valor\n",
    "- as curvas obtidas mostram uma tendência dos dados\n",
    "- sempre é possível transformar rótulos de regressão (valores) para rótulos de classificação (classes); mas a volta nem sempre é verdadeira\n",
    "- OBJETIVO: predizer um valor de uma variável dependente através de uma função das variáveis independentes\n",
    "- Abordagem Paramétrica: assumi-se uma classe de funções que descrevem o relacionamento entre as variáveis regressoras e de resposta\n",
    "- Abordagem Não Paramétrica: não assumimos nenhuma classe de função a rigor\n",
    "- regressão tenta estimar a função que relaciona os atributos com o target\n",
    "- realiza automaticamente com a Função Erro/Custo\n",
    "- por ser uma tarefa supervisionada, opera sobre um conjunto de k exemplos"
   ]
  },
  {
   "cell_type": "code",
   "execution_count": null,
   "metadata": {},
   "outputs": [],
   "source": []
  }
 ],
 "metadata": {
  "language_info": {
   "name": "python"
  },
  "orig_nbformat": 4
 },
 "nbformat": 4,
 "nbformat_minor": 2
}
